{
 "cells": [
  {
   "cell_type": "markdown",
   "id": "7d30aaf6",
   "metadata": {},
   "source": [
    "### Link gitlab\n",
    "https://romeogit.univ-reims.fr/mnoizet/visualisationscientifique\n",
    "\n",
    "Step : \n",
    "- volume.cu -> duplique la fonction mip et fais la fonction minip et meanip\n",
    "- LaunchParams.h -> RENDER_TYPE on y ajoute MINIP et MEANIP\n",
    "- volume.cu (encore) -> on fait en sorte que dans la fonction \"__closesthit__volume_radiance\" on utilise un switch sur optixLaunchParams.frame.renderType\n",
    "- screenDisplay.cpp -> On ajoute les widgets ligne 194 (RadioButton) pour pouvoir choisir le renderType"
   ]
  },
  {
   "cell_type": "code",
   "execution_count": null,
   "id": "c472b75a",
   "metadata": {
    "vscode": {
     "languageId": "plaintext"
    }
   },
   "outputs": [],
   "source": []
  }
 ],
 "metadata": {
  "language_info": {
   "name": "python"
  }
 },
 "nbformat": 4,
 "nbformat_minor": 5
}
