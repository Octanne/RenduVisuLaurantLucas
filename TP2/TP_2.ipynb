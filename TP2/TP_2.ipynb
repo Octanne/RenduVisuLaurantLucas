{
 "cells": [
  {
   "cell_type": "markdown",
   "id": "7d30aaf6",
   "metadata": {},
   "source": [
    "### Link gitlab\n",
    "https://romeogit.univ-reims.fr/mnoizet/visualisationscientifique"
   ]
  },
  {
   "cell_type": "markdown",
   "id": "336e8a90",
   "metadata": {},
   "source": [
    "#### Implémentation détaillée\n",
    "\n",
    "1. **volume.cu**  \n",
    "   - Dupliquer la fonction `mip()` pour créer `minip()` (minimum intensity projection) et `meanip()` (mean intensity projection).\n",
    "   - Adapter la logique pour chaque fonction :\n",
    "     - `minip` : cherche la plus petite intensité sur le rayon.\n",
    "     - `meanip` : calcule la moyenne des intensités valides sur le rayon.\n",
    "   - Dans `__closesthit__volume_radiance`, utiliser un `switch` sur `optixLaunchParams.frame.renderType` pour appeler la bonne fonction.\n",
    "\n",
    "2. **LaunchParams.h**  \n",
    "   - Ajouter `MINIP` et `MEANIP` à l'enum `RENDER_TYPE`.\n",
    "\n",
    "3. **screenDisplay.cpp**  \n",
    "   - Ajouter des boutons radio (ligne ~194) pour permettre à l'utilisateur de choisir le mode de rendu (MIP, MINIP, MEANIP) via l'interface ImGui.\n",
    "   - Modifier la valeur de `parameters->frame.renderType` selon le choix utilisateur."
   ]
  },
  {
   "cell_type": "markdown",
   "id": "8a3b2860",
   "metadata": {},
   "source": [
    "#### Résultat du filtre MINIP\n",
    "\n",
    "Affichage du rendu obtenu avec le filtre MINIP :\n",
    "\n",
    "![Filtre MINIP](capture/MINIP.png)"
   ]
  },
  {
   "cell_type": "markdown",
   "id": "7681b8d9",
   "metadata": {},
   "source": [
    "#### Résultat du filtre MEANIP\n",
    "\n",
    "Affichage du rendu obtenu avec le filtre MEANIP :\n",
    "\n",
    "![Filtre MEANIP](capture/MEANIP.png)"
   ]
  },
  {
   "cell_type": "markdown",
   "id": "cb2aa63a",
   "metadata": {},
   "source": [
    "#### Code modifié / ajouté\n",
    "\n",
    "##### VisualisationScientifique/shader/volume.cu\n",
    "```cuda\n",
    "// filepath: /home/corentin/Documents/Cours/M2/Projets/RenduVisuLaurantLucas/TP2/VisualisationScientifique/shader/volume.cu\n",
    "// ...existing code...\n",
    "\n",
    "  __device__ void minip(){\n",
    "      // ...voir code complet dans le fichier...\n",
    "  }\n",
    "\n",
    "  __device__ void meanip(){\n",
    "      // ...voir code complet dans le fichier...\n",
    "  }\n",
    "\n",
    "  extern \"C\" __global__ void __closesthit__volume_radiance(){\n",
    "      switch(optixLaunchParams.frame.renderType) {\n",
    "        case 0: // MIP\n",
    "          mip();\n",
    "          break;\n",
    "        case 1: // MINIP\n",
    "          minip();\n",
    "          break;\n",
    "        case 2: // MEANIP\n",
    "          meanip();\n",
    "          break;\n",
    "        default:\n",
    "          mip();\n",
    "          break;\n",
    "      }\n",
    "  }\n",
    "// ...existing code...\n",
    "```\n",
    "\n",
    "##### VisualisationScientifique/common/LaunchParams.h\n",
    "```cpp\n",
    "// filepath: /home/corentin/Documents/Cours/M2/Projets/RenduVisuLaurantLucas/TP2/VisualisationScientifique/common/LaunchParams.h\n",
    "// ...existing code...\n",
    "enum RENDER_TYPE{MIP, MINIP, MEANIP};\n",
    "// ...existing code...\n",
    "```\n",
    "\n",
    "##### VisualisationScientifique/common/screenDisplay.cpp\n",
    "```cpp\n",
    "// filepath: /home/corentin/Documents/Cours/M2/Projets/RenduVisuLaurantLucas/TP2/VisualisationScientifique/common/screenDisplay.cpp\n",
    "// ...existing code...\n",
    "    // Ajout des boutons radio pour le type de rendu\n",
    "    static int renderType = parameters->frame.renderType;\n",
    "    ImGui::Text(\"Render Type:\");\n",
    "    ImGui::RadioButton(\"MIP\", &renderType, 0); ImGui::SameLine();\n",
    "    ImGui::RadioButton(\"MINIP\", &renderType, 1); ImGui::SameLine();\n",
    "    ImGui::RadioButton(\"MEANIP\", &renderType, 2);\n",
    "    parameters->frame.renderType = renderType;\n",
    "// ...existing code...\n",
    "```"
   ]
  }
 ],
 "metadata": {
  "language_info": {
   "name": "python"
  }
 },
 "nbformat": 4,
 "nbformat_minor": 5
}
