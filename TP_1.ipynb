{
 "cells": [
  {
   "cell_type": "markdown",
   "id": "strategic-valve",
   "metadata": {},
   "source": [
    "# TP #1 - Estimation des courbures locales sur des maillages 3D"
   ]
  },
  {
   "cell_type": "markdown",
   "id": "agricultural-meditation",
   "metadata": {},
   "source": [
    "On vous propose dans ce TP d'évaluer et d'afficher les courbures locales d'un maillage 3D en déterminant sur chaque sommet de ce même maillage les valeurs propres associées à sa la matrice de covariance.\n",
    "\n",
    "Vous vous référerez pour cela à section 2 de l'article suivant :\n",
    "\n",
    "M. Pauly, M. Gross and L. P. Kobbelt, **Efficient simplification of point-sampled surfaces**, *IEEE Visualization, 2002. VIS 2002., Boston, MA, USA, 2002, pp. 163-170, doi: 10.1109/VISUAL.2002.1183771.*\n",
    "\n",
    "<img src=\"p_Pau021.jpg\" width=\"250\" />\n",
    "\n",
    "Le fichier Pdf de cet article est disponible <a href=\"p_Pau021.pdf\">ici</a>\n",
    "\n",
    "**Remarque** : pour le calcul des valeurs propres référerez-vous à <a href=\"https://numpy.org/doc/stable/reference/routines.linalg.html\">NumPy</a>. "
   ]
  },
  {
   "cell_type": "code",
   "execution_count": 7,
   "id": "dangerous-memorial",
   "metadata": {},
   "outputs": [],
   "source": [
    "from pygel3d import hmesh, jupyter_display as jd\n",
    "m = hmesh.load(\"bunny.obj\")"
   ]
  },
  {
   "cell_type": "markdown",
   "id": "greatest-paste",
   "metadata": {},
   "source": [
    "C'est à vous de jouer maintenant !"
   ]
  },
  {
   "cell_type": "code",
   "execution_count": 8,
   "id": "90ea2473-f7ff-4c34-85cb-9f09e51ecca0",
   "metadata": {},
   "outputs": [],
   "source": [
    "def show_cov(i_start,i_end, max_print=None):\n",
    "    global cov_matrix_l\n",
    "    global eigenvalues_l\n",
    "    if max_print is None:\n",
    "        for i in range(i_start,i_end):\n",
    "            eigenvalues = eigenvalues_l[i]\n",
    "            print(f\"Eigenvalues at vertex {i}: {eigenvalues}\")\n",
    "    else:\n",
    "        for i in range(i_start,i_start+(max_print//2)):\n",
    "            eigenvalues = eigenvalues_l[i]\n",
    "            print(f\"Eigenvalues at vertex {i}: {eigenvalues}\")\n",
    "        print(\"...\")\n",
    "        for i in range(i_end-(max_print//2),i_end):\n",
    "            eigenvalues = eigenvalues_l[i]\n",
    "            print(f\"Eigenvalues at vertex {i}: {eigenvalues}\")"
   ]
  },
  {
   "cell_type": "code",
   "execution_count": 13,
   "id": "4b5d5fe7-5538-408c-a65f-0ec4503e6175",
   "metadata": {},
   "outputs": [
    {
     "name": "stdout",
     "output_type": "stream",
     "text": [
      "Eigenvalues at vertex 0: [1.57166553e-03 1.74907220e-05 6.67009383e-04]\n",
      "Eigenvalues at vertex 1: [2.00613902e-03 8.51306455e-05 5.73834264e-04]\n",
      "Eigenvalues at vertex 2: [3.21359777e-03 8.38858408e-04 2.07945070e-06]\n",
      "Eigenvalues at vertex 3: [4.25474359e-03 8.72792862e-04 2.94122277e-05]\n",
      "Eigenvalues at vertex 4: [5.33940839e-03 6.75536291e-04 2.38631823e-05]\n",
      "...\n",
      "Eigenvalues at vertex 2498: [0.00267365 0.00091845 0.00012023]\n",
      "Eigenvalues at vertex 2499: [7.79853348e-03 3.19750580e-03 1.42002197e-06]\n",
      "Eigenvalues at vertex 2500: [3.17455678e-03 2.41867130e-03 3.57902185e-06]\n",
      "Eigenvalues at vertex 2501: [5.16351206e-03 5.08919895e-04 1.99325107e-05]\n",
      "Eigenvalues at vertex 2502: [2.84551641e-05 1.35539263e-03 2.71792091e-03]\n"
     ]
    }
   ],
   "source": [
    "show_cov(int(0),len(eigenvalues_l),int(10))"
   ]
  },
  {
   "cell_type": "markdown",
   "id": "f694e6cb-ceaf-4aab-899f-01e05574b3ae",
   "metadata": {},
   "source": [
    "```text\n",
    "Second version\n",
    "```"
   ]
  },
  {
   "cell_type": "code",
   "execution_count": 66,
   "id": "4538cfcb-6704-4084-a8e4-9307b5743b5f",
   "metadata": {},
   "outputs": [
    {
     "name": "stdout",
     "output_type": "stream",
     "text": [
      "[0.36948155 0.32471831 0.54968853 ... 0.61947635 0.51290482 0.32193683]\n"
     ]
    },
    {
     "data": {
      "application/vnd.jupyter.widget-view+json": {
       "model_id": "2a4e0761187149efb5a31f330ac9f0fd",
       "version_major": 2,
       "version_minor": 0
      },
      "text/plain": [
       "FigureWidget({\n",
       "    'data': [{'color': '#dddddd',\n",
       "              'flatshading': False,\n",
       "              'i': array([ 562,    1, 1288, ...,  189, 1159, 1459]),\n",
       "              'intensity': array([0.36948155, 0.32471831, 0.54968853, ..., 0.61947635, 0.51290482,\n",
       "                                  0.32193683]),\n",
       "              'j': array([   0, 1033,    2, ..., 1159, 1459, 2451]),\n",
       "              'k': array([1144, 1125,    5, ..., 2502, 2502, 2502]),\n",
       "              'type': 'mesh3d',\n",
       "              'uid': '5e9d4f26-59aa-470f-aa67-017c9865a0fd',\n",
       "              'x': array([-0.644662, -0.611354, -0.02151 , ..., -0.216801,  0.051458, -0.298077]),\n",
       "              'y': array([ 1.049186,  0.742713,  0.884485, ..., -0.001668,  0.032704,  0.225157]),\n",
       "              'z': array([ 0.056302,  0.03836 ,  0.135143, ...,  0.315951, -0.253654,  0.088463])},\n",
       "             {'hoverinfo': 'none',\n",
       "              'line': {'color': 'rgb(125,0,0)', 'width': 1},\n",
       "              'mode': 'lines',\n",
       "              'type': 'scatter3d',\n",
       "              'uid': '9a0e03af-5e61-413e-a07d-4bb30dfe0da2',\n",
       "              'x': array([-0.613298, -0.644662, None, ..., -0.276777, -0.298077, None],\n",
       "                         dtype=object),\n",
       "              'y': array([1.076979, 1.049186, None, ..., 0.22249, 0.225157, None], dtype=object),\n",
       "              'z': array([0.002881, 0.056302, None, ..., 0.128438, 0.088463, None], dtype=object)}],\n",
       "    'layout': {'height': 800, 'scene': {'aspectmode': 'data'}, 'template': '...', 'width': 850}\n",
       "})"
      ]
     },
     "execution_count": 66,
     "metadata": {},
     "output_type": "execute_result"
    }
   ],
   "source": [
    "from pygel3d import hmesh, jupyter_display as jd\n",
    "import numpy as np\n",
    "\n",
    "def compute_covariance_matrix(neighbors, center):\n",
    "    \"\"\"Compute the covariance matrix from neighbors and the center.\"\"\"\n",
    "    centered_vectors = [p - center for p in neighbors]\n",
    "    covariance_matrix = np.cov(np.array(centered_vectors).T)\n",
    "    return covariance_matrix\n",
    "\n",
    "def compute_eigenvalues(cov_matrix):\n",
    "    \"\"\"Compute the eigenvalues of a covariance matrix.\"\"\"\n",
    "    eigenvalues, _ = np.linalg.eig(cov_matrix)\n",
    "    return eigenvalues\n",
    "\n",
    "def build_vertex_adjacency_map(mesh):\n",
    "    \"\"\"Build a map of vertex indices to their neighboring vertex indices.\"\"\"\n",
    "    adjacency_map = {i: set() for i in range(len(mesh.positions()))}  # Initialize adjacency map\n",
    "    for face in mesh.faces():\n",
    "        vertices = mesh.circulate_face(face)  # Retrieve vertices of the face\n",
    "        for v in vertices:\n",
    "            adjacency_map[v].update(vertices)  # Add all face vertices to the adjacency map\n",
    "            adjacency_map[v].discard(v)  # Remove the vertex itself\n",
    "    return adjacency_map\n",
    "\n",
    "def get_neighbors(mesh, pos, index, levels, adjacency_map):\n",
    "    \"\"\"Retrieve neighbors up to a specified level for a given vertex index.\"\"\"\n",
    "    neighbors = set([index])\n",
    "    for _ in range(levels):\n",
    "        current_level = set()\n",
    "        for v in neighbors:\n",
    "            current_level.update(adjacency_map[v])\n",
    "        neighbors.update(current_level)\n",
    "    neighbors.discard(index)  # Remove the center index\n",
    "    return [pos[i] for i in neighbors]\n",
    "\n",
    "def compute_eigenvalues_for_mesh(mesh, levels):\n",
    "    \"\"\"Compute eigenvalues for all vertices in the mesh considering the specified levels of neighbors.\"\"\"\n",
    "    pos = mesh.positions()\n",
    "    adjacency_map = build_vertex_adjacency_map(mesh)  # Build adjacency map once\n",
    "    eigenvalues_list = []\n",
    "    \n",
    "    for i, center in enumerate(pos):\n",
    "        neighbors = get_neighbors(mesh, pos, i, levels, adjacency_map)\n",
    "        if neighbors:\n",
    "            cov_matrix = compute_covariance_matrix(neighbors, center)\n",
    "            eigenvalues = compute_eigenvalues(cov_matrix)\n",
    "            eigenvalues_list.append(eigenvalues)\n",
    "        else:\n",
    "            eigenvalues_list.append(None)  # Handle vertices with no neighbors\n",
    "\n",
    "    return eigenvalues_list\n",
    "\n",
    "def visualize_eigenvalues(mesh, eigenvalues_list, eigenvalue_index=0):\n",
    "    \"\"\"Visualize a specific eigenvalue (first value from each array) as a colormap on the mesh.\"\"\"\n",
    "    \n",
    "    # Get the vertex positions\n",
    "    vertex_positions = mesh.positions()\n",
    "\n",
    "    # Prepare an empty list to store the intensity\n",
    "    colors = []\n",
    "\n",
    "    # Extract the first eigenvalue from each eigenvalue array in eigenvalues_list\n",
    "    eigenvalues = [eigenvalues[0] if eigenvalues is not None else 0.0 for eigenvalues in eigenvalues_list]\n",
    "\n",
    "    # Normalize the eigenvalues to the range [0, 1]\n",
    "    min_val, max_val = min(eigenvalues), max(eigenvalues)\n",
    "    normalized_eigenvalues = [(eigenvalue - min_val) / (max_val - min_val) if max_val > min_val else 0.5 for eigenvalue in eigenvalues]\n",
    "\n",
    "    for i, (x, y, z) in enumerate(vertex_positions):\n",
    "        # Get the normalized color corresponding to the eigenvalue at this vertex\n",
    "        color_value = normalized_eigenvalues[i] if i < len(normalized_eigenvalues) else 0.5  # Default to 0.5 if out of range\n",
    "\n",
    "        # Append the intensity for the vertices for colors\n",
    "        colors.append(color_value)\n",
    "\n",
    "    # Convert the list to a numpy array\n",
    "    colors = np.array(colors)\n",
    "    \n",
    "    return colors\n",
    "\n",
    "def visualize_eigenvalues(mesh, eigenvalues_list):\n",
    "    # Normalize the 1x3 matrix\n",
    "    intensity = np.array([np.linalg.norm(v) for v in eigenvalues_list])\n",
    "    # Normalize value between 0 and 1\n",
    "    min_val, max_val = np.min(intensity), np.max(intensity)\n",
    "    normalized_intensity = (intensity - min_val) / (max_val - min_val)\n",
    "    \n",
    "    return normalized_intensity\n",
    "\n",
    "# Example usage\n",
    "mesh = hmesh.load(\"bunny.obj\")\n",
    "levels = 8 # Specify the level of neighbors to consider\n",
    "eigenvalues_list = compute_eigenvalues_for_mesh(mesh, levels)\n",
    "colors = visualize_eigenvalues(mesh, eigenvalues_list)\n",
    "print(colors)\n",
    "# Visualize the mesh with the color data (where colors are in the format (r, g, b, a))\n",
    "jd.display(mesh, data=colors)"
   ]
  }
 ],
 "metadata": {
  "kernelspec": {
   "display_name": "Python 3 (ipykernel)",
   "language": "python",
   "name": "python3"
  },
  "language_info": {
   "codemirror_mode": {
    "name": "ipython",
    "version": 3
   },
   "file_extension": ".py",
   "mimetype": "text/x-python",
   "name": "python",
   "nbconvert_exporter": "python",
   "pygments_lexer": "ipython3",
   "version": "3.9.18"
  }
 },
 "nbformat": 4,
 "nbformat_minor": 5
}
